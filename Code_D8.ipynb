{
 "cells": [
  {
   "cell_type": "code",
   "execution_count": 79,
   "metadata": {},
   "outputs": [],
   "source": [
    "import numpy as np"
   ]
  },
  {
   "cell_type": "code",
   "execution_count": 80,
   "metadata": {},
   "outputs": [],
   "source": [
    "with open('Data_Aoc_2023/Data_D8.txt') as f:\n",
    "    dir, _, *l=f.readlines()\n",
    "    lol=[i.strip().replace('=',',').replace(' ','').replace('(','').replace(')','').split(',') for i in l]"
   ]
  },
  {
   "cell_type": "code",
   "execution_count": 81,
   "metadata": {},
   "outputs": [],
   "source": [
    "paths = {k[0]:[k[1],k[2]] for k in lol}\n",
    "dir = dir.strip()"
   ]
  },
  {
   "cell_type": "markdown",
   "metadata": {},
   "source": [
    "### Part 1"
   ]
  },
  {
   "cell_type": "code",
   "execution_count": 82,
   "metadata": {},
   "outputs": [
    {
     "data": {
      "text/plain": [
       "18157"
      ]
     },
     "execution_count": 82,
     "metadata": {},
     "output_type": "execute_result"
    }
   ],
   "source": [
    "l = len(dir)\n",
    "start = 'AAA'\n",
    "found = False\n",
    "steps = 0\n",
    "while found == False:\n",
    "    next = dir[steps % l]\n",
    "    if next == 'L':\n",
    "        start = paths[start][0]\n",
    "    else:\n",
    "        start = paths[start][1]\n",
    "    if start == 'ZZZ':\n",
    "        found = True\n",
    "    steps += 1\n",
    "\n",
    "steps"
   ]
  },
  {
   "cell_type": "markdown",
   "metadata": {},
   "source": [
    "### Part 2"
   ]
  },
  {
   "cell_type": "code",
   "execution_count": 83,
   "metadata": {},
   "outputs": [],
   "source": [
    "starts = []\n",
    "for pos in list(paths.keys()):\n",
    "    if pos[-1] =='A':\n",
    "        starts.append(pos)"
   ]
  },
  {
   "cell_type": "code",
   "execution_count": 84,
   "metadata": {},
   "outputs": [],
   "source": [
    "def end_Z(position):\n",
    "    res = True\n",
    "    for k in position:\n",
    "        if k[-1] != 'Z':\n",
    "            res = False\n",
    "    return res\n",
    "\n",
    "def calc_suite(start, table, direction):\n",
    "    res = []\n",
    "    temp = start\n",
    "    steps = 0\n",
    "    next = 0\n",
    "    l = len(direction)\n",
    "    while [temp,next] not in res:\n",
    "        res.append([temp, next])\n",
    "        if direction[next] == 'L':\n",
    "            temp = table[temp][0]\n",
    "        else:\n",
    "            temp = table[temp][1]\n",
    "        steps += 1\n",
    "        next = (next+1) % l\n",
    "    return res , (len(res) -res.index([temp,next]))\n",
    "\n",
    "def utils(start, table, direction):\n",
    "    liste, period = calc_suite(start, table, direction)\n",
    "    length = len(liste)\n",
    "    res = []\n",
    "    for k, paire in enumerate(liste):\n",
    "        if paire[0][-1] == 'Z':\n",
    "            res.append([paire[0],k])\n",
    "    return (res, length, period)"
   ]
  },
  {
   "cell_type": "markdown",
   "metadata": {},
   "source": [
    "LCM does the job because period and index of first '--Z' appearance coincides."
   ]
  },
  {
   "cell_type": "code",
   "execution_count": 85,
   "metadata": {},
   "outputs": [
    {
     "data": {
      "text/plain": [
       "14299763833181"
      ]
     },
     "execution_count": 85,
     "metadata": {},
     "output_type": "execute_result"
    }
   ],
   "source": [
    "infos = [utils(start,paths,dir) for start in starts]\n",
    "lists = [a[0][0][1] for a in infos]\n",
    "np.lcm.reduce(lists)"
   ]
  }
 ],
 "metadata": {
  "kernelspec": {
   "display_name": "gudhi",
   "language": "python",
   "name": "python3"
  },
  "language_info": {
   "codemirror_mode": {
    "name": "ipython",
    "version": 3
   },
   "file_extension": ".py",
   "mimetype": "text/x-python",
   "name": "python",
   "nbconvert_exporter": "python",
   "pygments_lexer": "ipython3",
   "version": "3.10.9"
  }
 },
 "nbformat": 4,
 "nbformat_minor": 2
}
