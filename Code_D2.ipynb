{
 "cells": [
  {
   "cell_type": "markdown",
   "metadata": {},
   "source": [
    "# Day 2"
   ]
  },
  {
   "cell_type": "code",
   "execution_count": 1,
   "metadata": {},
   "outputs": [],
   "source": [
    "import re"
   ]
  },
  {
   "cell_type": "code",
   "execution_count": 2,
   "metadata": {},
   "outputs": [],
   "source": [
    "def draw_to_list(draw):\n",
    "    blue = re.findall('\\d+ blue', draw)\n",
    "    red = re.findall('\\d+ red', draw)\n",
    "    green = re.findall('\\d+ green', draw)\n",
    "\n",
    "    def extract(l):\n",
    "        if l == []:\n",
    "            return 0\n",
    "        else:\n",
    "            return int(re.findall('\\d+',l[0])[0])\n",
    "    \n",
    "    return [extract(blue), extract(green),extract(red)]"
   ]
  },
  {
   "cell_type": "code",
   "execution_count": 3,
   "metadata": {},
   "outputs": [],
   "source": [
    "with open(\"Data_Aoc_2023/Data_D2.txt\") as f:\n",
    "    l = f.readlines()\n",
    "    lol=[i.strip('Game \\d+:').split(';') for i in l]\n",
    "\n",
    "for i, subl in enumerate(lol):\n",
    "    for j, draw in enumerate (subl):\n",
    "        subl[j] = draw_to_list(subl[j])\n"
   ]
  },
  {
   "cell_type": "markdown",
   "metadata": {},
   "source": [
    "### Part 1"
   ]
  },
  {
   "cell_type": "code",
   "execution_count": 4,
   "metadata": {},
   "outputs": [],
   "source": [
    "def is_possible(draws, cubes):\n",
    "    res = True\n",
    "    for d in draws:\n",
    "        if d[0]>cubes[0] or d[1]>cubes[1] or d[2]>cubes[2]:\n",
    "            res = False\n",
    "    return res"
   ]
  },
  {
   "cell_type": "code",
   "execution_count": 5,
   "metadata": {},
   "outputs": [
    {
     "data": {
      "text/plain": [
       "2720"
      ]
     },
     "execution_count": 5,
     "metadata": {},
     "output_type": "execute_result"
    }
   ],
   "source": [
    "res = 0\n",
    "for i, draws in enumerate(lol):\n",
    "    if is_possible(draws,[14,13,12]):\n",
    "        res += i+1\n",
    "res"
   ]
  },
  {
   "cell_type": "markdown",
   "metadata": {},
   "source": [
    "### Part 2"
   ]
  },
  {
   "cell_type": "code",
   "execution_count": 6,
   "metadata": {},
   "outputs": [],
   "source": [
    "def power(draws):\n",
    "    b = 0\n",
    "    g = 0\n",
    "    r = 0\n",
    "    for d in draws:\n",
    "        b = max(b,d[0])\n",
    "        g= max(g,d[1])\n",
    "        r= max(r,d[2])\n",
    "    return b*g*r       "
   ]
  },
  {
   "cell_type": "code",
   "execution_count": 7,
   "metadata": {},
   "outputs": [
    {
     "data": {
      "text/plain": [
       "71535"
      ]
     },
     "execution_count": 7,
     "metadata": {},
     "output_type": "execute_result"
    }
   ],
   "source": [
    "res = 0\n",
    "for i, draws in enumerate(lol):\n",
    "    res += power(draws)\n",
    "res"
   ]
  }
 ],
 "metadata": {
  "kernelspec": {
   "display_name": "gudhi",
   "language": "python",
   "name": "python3"
  },
  "language_info": {
   "codemirror_mode": {
    "name": "ipython",
    "version": 3
   },
   "file_extension": ".py",
   "mimetype": "text/x-python",
   "name": "python",
   "nbconvert_exporter": "python",
   "pygments_lexer": "ipython3",
   "version": "3.10.9"
  }
 },
 "nbformat": 4,
 "nbformat_minor": 2
}
