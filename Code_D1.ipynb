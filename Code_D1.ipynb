{
 "cells": [
  {
   "cell_type": "markdown",
   "metadata": {},
   "source": [
    "# Day 1"
   ]
  },
  {
   "cell_type": "code",
   "execution_count": 11,
   "metadata": {},
   "outputs": [],
   "source": [
    "with open(\"Data_Aoc_2023/Data_D1.txt\") as f:\n",
    "    l = f.readlines()\n",
    "    lol=[i.strip() for i in l]"
   ]
  },
  {
   "cell_type": "markdown",
   "metadata": {},
   "source": [
    "### Part 1"
   ]
  },
  {
   "cell_type": "code",
   "execution_count": 12,
   "metadata": {},
   "outputs": [],
   "source": [
    "def extract_first(word):\n",
    "    found = False\n",
    "    i= 0\n",
    "    res = 0\n",
    "    while not found and i<len(word):\n",
    "        if word[i] in '0123456789':\n",
    "            found = True\n",
    "            res = word[i]\n",
    "        else:\n",
    "            i +=1\n",
    "    return i,str(res)\n",
    "\n",
    "def extract_last(word):\n",
    "    i, res = extract_first(word[::-1])\n",
    "    return len(word)-1-i, res\n",
    "\n",
    "def extract(word):\n",
    "    return int(extract_first(word)[1]+extract_last(word)[1])"
   ]
  },
  {
   "cell_type": "code",
   "execution_count": 13,
   "metadata": {},
   "outputs": [
    {
     "name": "stdout",
     "output_type": "stream",
     "text": [
      "54081\n"
     ]
    }
   ],
   "source": [
    "res = 0\n",
    "for word in lol:\n",
    "    res += extract(word)\n",
    "print(res)"
   ]
  },
  {
   "cell_type": "markdown",
   "metadata": {},
   "source": [
    "### Part 2"
   ]
  },
  {
   "cell_type": "code",
   "execution_count": 14,
   "metadata": {},
   "outputs": [],
   "source": [
    "numbers = {'zero':0,'one':1,'two':2,'three':3,'four':4,'five':5,'six':6,'seven':7, 'eight':8, 'nine':9}"
   ]
  },
  {
   "cell_type": "code",
   "execution_count": 15,
   "metadata": {},
   "outputs": [],
   "source": [
    "def find_all(a_str, sub):\n",
    "    start = 0\n",
    "    while True:\n",
    "        start = a_str.find(sub, start)\n",
    "        if start == -1: return\n",
    "        yield start\n",
    "        start += len(sub) "
   ]
  },
  {
   "cell_type": "code",
   "execution_count": 16,
   "metadata": {},
   "outputs": [],
   "source": [
    "def check_numbers(word):\n",
    "    res = []\n",
    "    for i, n in enumerate(numbers.keys()):\n",
    "        temp = find_all(word,n)\n",
    "        if temp != []:\n",
    "            temp2 = [[k, numbers[n]] for k in temp]\n",
    "            res = res + temp2\n",
    "    return res"
   ]
  },
  {
   "cell_type": "code",
   "execution_count": 17,
   "metadata": {},
   "outputs": [],
   "source": [
    "def extract_first_cplt(word):\n",
    "    i, num = extract_first(word)\n",
    "    l = check_numbers(word)\n",
    "    \n",
    "    if l ==[]:\n",
    "        return int(num)\n",
    "    l_min = min(l)\n",
    "    if l_min[0]<i:\n",
    "        return l_min[1]\n",
    "    else:\n",
    "        return int(num)\n",
    "\n",
    "def extract_last_cplt(word):\n",
    "    i, num = extract_last(word)\n",
    "    l = check_numbers(word)\n",
    "    if l == []:\n",
    "        return int(num)\n",
    "    l_max = max(l)\n",
    "    if l_max[0]>i:\n",
    "        return l_max[1]\n",
    "    else:\n",
    "        return int(num)\n",
    "\n",
    "def extract_tot(word):\n",
    "    return extract_first_cplt(word)*10+ extract_last_cplt(word)"
   ]
  },
  {
   "cell_type": "code",
   "execution_count": 18,
   "metadata": {},
   "outputs": [
    {
     "name": "stdout",
     "output_type": "stream",
     "text": [
      "54649\n"
     ]
    }
   ],
   "source": [
    "res2 = 0\n",
    "for word in lol:\n",
    "    temp = extract_tot(word)\n",
    "    res2 += temp\n",
    "print(res2)"
   ]
  }
 ],
 "metadata": {
  "kernelspec": {
   "display_name": "gudhi",
   "language": "python",
   "name": "python3"
  },
  "language_info": {
   "codemirror_mode": {
    "name": "ipython",
    "version": 3
   },
   "file_extension": ".py",
   "mimetype": "text/x-python",
   "name": "python",
   "nbconvert_exporter": "python",
   "pygments_lexer": "ipython3",
   "version": "3.10.9"
  }
 },
 "nbformat": 4,
 "nbformat_minor": 2
}
