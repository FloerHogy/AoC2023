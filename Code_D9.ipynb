{
 "cells": [
  {
   "cell_type": "markdown",
   "metadata": {},
   "source": [
    "# Day 9"
   ]
  },
  {
   "cell_type": "code",
   "execution_count": 115,
   "metadata": {},
   "outputs": [],
   "source": [
    "with open('Data_Aoc_2023/Data_D9.txt') as f:\n",
    "    l=f.readlines()\n",
    "    lol=[[int (a) for a in i.split()] for i in l]"
   ]
  },
  {
   "cell_type": "code",
   "execution_count": 135,
   "metadata": {},
   "outputs": [],
   "source": [
    "class Sensor:\n",
    "    def __init__(self, val):\n",
    "        self.value = val\n",
    "        self.child = Sensor(self.diff()) if self.diff() != None else None\n",
    "        self.parent = None\n",
    "    \n",
    "    def diff(self):\n",
    "        if self.value == None:\n",
    "            return None\n",
    "        elif set(self.value)== {0}:\n",
    "            return None\n",
    "        else:\n",
    "            return [a-b for a,b in zip(self.value[1:], self.value[:-1])]\n",
    "    \n",
    "    def height(self):\n",
    "        if self.child == None:\n",
    "            return 1\n",
    "        else:\n",
    "            return 1 + self.child.height()\n",
    "    \n",
    "    def descendant(self,k):\n",
    "        if k >= self.height():\n",
    "            raise ValueError('Tree too short for this descendant!')\n",
    "        else:\n",
    "            if k== 0:\n",
    "                return self\n",
    "            else:\n",
    "                return self.child.descendant(k-1)\n",
    "    \n",
    "    def extrapolate(self):\n",
    "        if self.value == None:\n",
    "            return None\n",
    "        elif self.child == None:\n",
    "            return Sensor(self.value+ [0])\n",
    "        else:\n",
    "            return Sensor(self.value + [self.child.extrapolate().value[-1] + self.value[-1] ])\n",
    "    \n",
    "    def extrapolate_left(self):\n",
    "        if self.value == None:\n",
    "            return None\n",
    "        elif self.child == None:\n",
    "            return Sensor([0] + self.value)\n",
    "        else:\n",
    "            return Sensor([-self.child.extrapolate_left().value[0] + self.value[0] ] +self.value)"
   ]
  },
  {
   "cell_type": "code",
   "execution_count": 142,
   "metadata": {},
   "outputs": [],
   "source": [
    "data = [Sensor(l) for l in lol]"
   ]
  },
  {
   "cell_type": "markdown",
   "metadata": {},
   "source": [
    "### Part 1"
   ]
  },
  {
   "cell_type": "code",
   "execution_count": 118,
   "metadata": {},
   "outputs": [
    {
     "data": {
      "text/plain": [
       "1974232246"
      ]
     },
     "execution_count": 118,
     "metadata": {},
     "output_type": "execute_result"
    }
   ],
   "source": [
    "res = 0\n",
    "for k in data:\n",
    "    res += k.extrapolate().value[-1]\n",
    "res"
   ]
  },
  {
   "cell_type": "markdown",
   "metadata": {},
   "source": [
    "### Part 2"
   ]
  },
  {
   "cell_type": "code",
   "execution_count": 143,
   "metadata": {},
   "outputs": [
    {
     "data": {
      "text/plain": [
       "928"
      ]
     },
     "execution_count": 143,
     "metadata": {},
     "output_type": "execute_result"
    }
   ],
   "source": [
    "res = 0\n",
    "for k in data:\n",
    "    res += k.extrapolate_left().value[0]\n",
    "res"
   ]
  }
 ],
 "metadata": {
  "kernelspec": {
   "display_name": "gudhi",
   "language": "python",
   "name": "python3"
  },
  "language_info": {
   "codemirror_mode": {
    "name": "ipython",
    "version": 3
   },
   "file_extension": ".py",
   "mimetype": "text/x-python",
   "name": "python",
   "nbconvert_exporter": "python",
   "pygments_lexer": "ipython3",
   "version": "3.10.9"
  }
 },
 "nbformat": 4,
 "nbformat_minor": 2
}
