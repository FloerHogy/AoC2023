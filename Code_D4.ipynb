{
 "cells": [
  {
   "cell_type": "markdown",
   "metadata": {},
   "source": [
    "# Day 4"
   ]
  },
  {
   "cell_type": "code",
   "execution_count": 25,
   "metadata": {},
   "outputs": [],
   "source": [
    "import re"
   ]
  },
  {
   "cell_type": "code",
   "execution_count": 26,
   "metadata": {},
   "outputs": [],
   "source": [
    "with open('Data_Aoc_2023/Data_D4.txt') as f:\n",
    "    l=f.readlines()\n",
    "    lol=[re.sub('Card\\s+\\d+:','',i).strip().split('|') for i in l]\n",
    "\n",
    "data = [ [[int(k) for k in ligne[0].split()] , [int(k) for k in ligne[1].split()]] for ligne in lol]"
   ]
  },
  {
   "cell_type": "markdown",
   "metadata": {},
   "source": [
    "### Part 1"
   ]
  },
  {
   "cell_type": "code",
   "execution_count": 27,
   "metadata": {},
   "outputs": [],
   "source": [
    "def nb_win(doc):\n",
    "    L = []\n",
    "    for k, num in enumerate(doc):\n",
    "        L.append(len(list(set(num[0]) & set(num[1]))))\n",
    "    return L\n",
    "\n",
    "def calc_points(doc):\n",
    "    num_wins = nb_win(doc)\n",
    "    res = 0\n",
    "    for k in num_wins:\n",
    "        if k > 0:\n",
    "            res += 2**(k-1)\n",
    "    return res        "
   ]
  },
  {
   "cell_type": "code",
   "execution_count": 28,
   "metadata": {},
   "outputs": [
    {
     "data": {
      "text/plain": [
       "20117"
      ]
     },
     "execution_count": 28,
     "metadata": {},
     "output_type": "execute_result"
    }
   ],
   "source": [
    "calc_points(data)"
   ]
  },
  {
   "cell_type": "markdown",
   "metadata": {},
   "source": [
    "### Part 2"
   ]
  },
  {
   "cell_type": "code",
   "execution_count": 29,
   "metadata": {},
   "outputs": [],
   "source": [
    "def remaining_cards(doc):\n",
    "    nb_cards = len(doc)\n",
    "    num_wins = nb_win(doc)\n",
    "    cards = dict(zip(range(nb_cards),[1 for x in range(nb_cards)]))\n",
    "    for k in range(nb_cards):\n",
    "        n_new_cards = num_wins[k]\n",
    "        for j in range(k+1, k+1+n_new_cards):\n",
    "            cards[j] += cards[k]\n",
    "    return cards\n",
    "\n",
    "def nb_remaining_cards(doc):\n",
    "    cards = remaining_cards(doc)\n",
    "    return sum(cards.values())"
   ]
  },
  {
   "cell_type": "code",
   "execution_count": 30,
   "metadata": {},
   "outputs": [
    {
     "data": {
      "text/plain": [
       "13768818"
      ]
     },
     "execution_count": 30,
     "metadata": {},
     "output_type": "execute_result"
    }
   ],
   "source": [
    "nb_remaining_cards(data)"
   ]
  }
 ],
 "metadata": {
  "kernelspec": {
   "display_name": "gudhi",
   "language": "python",
   "name": "python3"
  },
  "language_info": {
   "codemirror_mode": {
    "name": "ipython",
    "version": 3
   },
   "file_extension": ".py",
   "mimetype": "text/x-python",
   "name": "python",
   "nbconvert_exporter": "python",
   "pygments_lexer": "ipython3",
   "version": "3.10.9"
  }
 },
 "nbformat": 4,
 "nbformat_minor": 2
}
