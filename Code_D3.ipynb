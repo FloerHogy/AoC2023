{
 "cells": [
  {
   "cell_type": "markdown",
   "metadata": {},
   "source": [
    "# Day 3"
   ]
  },
  {
   "cell_type": "code",
   "execution_count": 1,
   "metadata": {},
   "outputs": [],
   "source": [
    "import re"
   ]
  },
  {
   "cell_type": "code",
   "execution_count": 2,
   "metadata": {},
   "outputs": [],
   "source": [
    "with open(\"Data_Aoc_2023/Data_D3.txt\") as f:\n",
    "    l = f.readlines()\n",
    "    lol=[i.strip() for i in l]"
   ]
  },
  {
   "cell_type": "code",
   "execution_count": 3,
   "metadata": {},
   "outputs": [],
   "source": [
    "test = ['467..114..',\n",
    "'...*......',\n",
    "'..35..633.',\n",
    "'......#...',\n",
    "'617*......',\n",
    "'.....+.58.',\n",
    "'..592.....',\n",
    "'......755.',\n",
    "'...$.*....',\n",
    "'.664.598..']"
   ]
  },
  {
   "cell_type": "code",
   "execution_count": 4,
   "metadata": {},
   "outputs": [],
   "source": [
    "def find_symbols(ligne):\n",
    "    res = []\n",
    "    for i, symb in enumerate(ligne):\n",
    "        if ligne[i] != '.' and ligne[i] not in '0123456789':\n",
    "            res.append(i)\n",
    "    return res\n",
    "\n",
    "def all_symbols(doc):\n",
    "    res = []\n",
    "    for k , ligne in enumerate(doc):\n",
    "        temp = find_symbols(ligne)\n",
    "        res = res + [[k,a] for a in temp]\n",
    "    return res"
   ]
  },
  {
   "cell_type": "code",
   "execution_count": 5,
   "metadata": {},
   "outputs": [],
   "source": [
    "def find_numbers(ligne):\n",
    "    temp = re.finditer('\\d+', ligne)\n",
    "    return [[int(a.group(0)), list(a.span())] for a in temp]\n",
    "\n",
    "def all_numbers(doc):\n",
    "    res = []\n",
    "    for k , ligne in enumerate(doc):\n",
    "        temp = find_numbers(ligne)\n",
    "        res = res + [[a,k,b] for a,b in temp]\n",
    "    return res"
   ]
  },
  {
   "cell_type": "code",
   "execution_count": 6,
   "metadata": {},
   "outputs": [],
   "source": [
    "def case_adj(coord, doc):\n",
    "\n",
    "    h_max = len(doc)\n",
    "    l_max = len(doc[0])\n",
    "\n",
    "    x = coord[0]\n",
    "    y = coord[1]\n",
    "\n",
    "    temp = [[x-1, y-1],[x-1,y],[x-1, y+1],[x,y-1],[x,y+1],[x+1,y-1],[x+1,y],[x+1,y+1]]\n",
    "    res = []\n",
    "\n",
    "    for pair in temp:\n",
    "        if pair[0] in range(h_max) and pair[1] in range(l_max):\n",
    "            res.append(pair)\n",
    "    return res\n"
   ]
  },
  {
   "cell_type": "markdown",
   "metadata": {},
   "source": [
    "### Part 1"
   ]
  },
  {
   "cell_type": "code",
   "execution_count": 7,
   "metadata": {},
   "outputs": [],
   "source": [
    "def is_symbol(coord, doc):\n",
    "    if doc[coord[0]][coord[1]] == '.' or doc[coord[0]][coord[1]] in '1234567890':\n",
    "        return False\n",
    "    else:\n",
    "        return True\n",
    "\n",
    "def adj_to_symb(coord, doc):\n",
    "    for c in case_adj(coord,doc):\n",
    "        if is_symbol(c,doc):\n",
    "            return True\n",
    "    return False"
   ]
  },
  {
   "cell_type": "code",
   "execution_count": 8,
   "metadata": {},
   "outputs": [
    {
     "data": {
      "text/plain": [
       "537832"
      ]
     },
     "execution_count": 8,
     "metadata": {},
     "output_type": "execute_result"
    }
   ],
   "source": [
    "def calcul_somme(doc):\n",
    "    res = 0\n",
    "    for num in all_numbers(doc):\n",
    "        test = False\n",
    "        for j in range(num[2][0], num[2][1]):\n",
    "            if adj_to_symb([num[1],j],doc) and not test:\n",
    "                res += num[0]\n",
    "                test = True\n",
    "    return res\n",
    "\n",
    "calcul_somme(lol)"
   ]
  },
  {
   "cell_type": "markdown",
   "metadata": {},
   "source": [
    "### Part 2"
   ]
  },
  {
   "cell_type": "code",
   "execution_count": 9,
   "metadata": {},
   "outputs": [],
   "source": [
    "def is_star(coord, doc):\n",
    "    return doc[coord[0]][coord[1]] == '*'\n",
    "\n",
    "def is_adj_star(coord,doc):\n",
    "    for c in case_adj(coord,doc):\n",
    "        if is_star(c,doc):\n",
    "            return True\n",
    "    return False\n",
    "\n",
    "def adj_star(coord,doc):\n",
    "    res = []\n",
    "    for c in case_adj(coord,doc):\n",
    "        if is_star(c,doc):\n",
    "            res.append(c)\n",
    "    return res"
   ]
  },
  {
   "cell_type": "code",
   "execution_count": 10,
   "metadata": {},
   "outputs": [
    {
     "data": {
      "text/plain": [
       "81939900"
      ]
     },
     "execution_count": 10,
     "metadata": {},
     "output_type": "execute_result"
    }
   ],
   "source": [
    "\n",
    "\n",
    "def calcul_gears(doc):\n",
    "    L = []\n",
    "\n",
    "    for num in all_numbers(doc) :\n",
    "        for j in range(num[2][0],num[2][1]):\n",
    "            stars=(adj_star((num[1],j),doc),num[0])\n",
    "            if is_adj_star((num[1],j),doc) and stars not in L :\n",
    "                L.append(stars)\n",
    "\n",
    "\n",
    "    gears=0\n",
    "    for i, x in enumerate(L) :\n",
    "        for y in L[i+1:] :\n",
    "            if x[0]==y[0] and x!=y:\n",
    "\n",
    "                gears += int(x[1])*int(y[1])\n",
    "    return gears\n",
    "\n",
    "calcul_gears(lol)"
   ]
  }
 ],
 "metadata": {
  "kernelspec": {
   "display_name": "gudhi",
   "language": "python",
   "name": "python3"
  },
  "language_info": {
   "codemirror_mode": {
    "name": "ipython",
    "version": 3
   },
   "file_extension": ".py",
   "mimetype": "text/x-python",
   "name": "python",
   "nbconvert_exporter": "python",
   "pygments_lexer": "ipython3",
   "version": "3.10.9"
  }
 },
 "nbformat": 4,
 "nbformat_minor": 2
}
