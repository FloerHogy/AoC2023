{
 "cells": [
  {
   "cell_type": "markdown",
   "metadata": {},
   "source": [
    "# Day 11"
   ]
  },
  {
   "cell_type": "code",
   "execution_count": 65,
   "metadata": {},
   "outputs": [],
   "source": [
    "import numpy as np"
   ]
  },
  {
   "cell_type": "code",
   "execution_count": 66,
   "metadata": {},
   "outputs": [],
   "source": [
    "with open('Data_Aoc_2023/Data_D11.txt') as f:\n",
    "    l=f.readlines()\n",
    "    lol=[[a for a in i] for i in l]"
   ]
  },
  {
   "cell_type": "code",
   "execution_count": 68,
   "metadata": {},
   "outputs": [],
   "source": [
    "H = len(lol)\n",
    "W = len(lol[0])\n",
    "\n",
    "galaxies = []\n",
    "gal_L = {k:[] for k, symb in enumerate(lol)}\n",
    "gal_C = {k:[] for k, symb in enumerate(lol[0])}\n",
    "\n",
    "for i, ligne in enumerate(lol):\n",
    "    for j, symb in enumerate(ligne):\n",
    "        if symb == '#':\n",
    "            galaxies.append([i,j])\n",
    "            gal_L[i].append(j)\n",
    "            gal_C[j].append(i)"
   ]
  },
  {
   "cell_type": "code",
   "execution_count": 69,
   "metadata": {},
   "outputs": [],
   "source": [
    "def rangeC(a,b):\n",
    "    if a < b:\n",
    "        return range(a,b)\n",
    "    else:\n",
    "        return range(b,a)"
   ]
  },
  {
   "cell_type": "markdown",
   "metadata": {},
   "source": [
    "### Part 1"
   ]
  },
  {
   "cell_type": "code",
   "execution_count": 70,
   "metadata": {},
   "outputs": [],
   "source": [
    "def gal_dist(G1,G2, L_gal, C_gal):\n",
    "    empty_L = len([x for x in rangeC(G1[0],G2[0]) if L_gal[x]==[]])\n",
    "    empty_C = len([x for x in rangeC(G1[1],G2[1]) if C_gal[x]==[]])\n",
    "\n",
    "    return np.abs(G1[0]-G2[0]) + np.abs(G1[1]-G2[1]) +empty_L +empty_C\n"
   ]
  },
  {
   "cell_type": "code",
   "execution_count": 73,
   "metadata": {},
   "outputs": [
    {
     "data": {
      "text/plain": [
       "9556896"
      ]
     },
     "execution_count": 73,
     "metadata": {},
     "output_type": "execute_result"
    }
   ],
   "source": [
    "res = 0\n",
    "for k, G1 in enumerate(galaxies[:-1]):\n",
    "    for j, G2 in enumerate(galaxies[k+1:]):\n",
    "        res += gal_dist(G1,G2,gal_L,gal_C)\n",
    "res"
   ]
  },
  {
   "cell_type": "markdown",
   "metadata": {},
   "source": [
    "### Part 2"
   ]
  },
  {
   "cell_type": "code",
   "execution_count": 78,
   "metadata": {},
   "outputs": [],
   "source": [
    "def gal_BIG_dist(G1,G2, L_gal, C_gal):\n",
    "    empty_L = len([x for x in rangeC(G1[0],G2[0]) if L_gal[x]==[]])\n",
    "    empty_C = len([x for x in rangeC(G1[1],G2[1]) if C_gal[x]==[]])\n",
    "\n",
    "    return np.abs(G1[0]-G2[0]) + np.abs(G1[1]-G2[1]) + (10**6-1)*(empty_L +empty_C)"
   ]
  },
  {
   "cell_type": "code",
   "execution_count": 79,
   "metadata": {},
   "outputs": [
    {
     "data": {
      "text/plain": [
       "685038186836"
      ]
     },
     "execution_count": 79,
     "metadata": {},
     "output_type": "execute_result"
    }
   ],
   "source": [
    "res = 0\n",
    "for k, G1 in enumerate(galaxies[:-1]):\n",
    "    for j, G2 in enumerate(galaxies[k+1:]):\n",
    "        res += gal_BIG_dist(G1,G2,gal_L,gal_C)\n",
    "res"
   ]
  }
 ],
 "metadata": {
  "kernelspec": {
   "display_name": "gudhi",
   "language": "python",
   "name": "python3"
  },
  "language_info": {
   "codemirror_mode": {
    "name": "ipython",
    "version": 3
   },
   "file_extension": ".py",
   "mimetype": "text/x-python",
   "name": "python",
   "nbconvert_exporter": "python",
   "pygments_lexer": "ipython3",
   "version": "3.10.9"
  }
 },
 "nbformat": 4,
 "nbformat_minor": 2
}
