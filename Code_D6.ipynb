{
 "cells": [
  {
   "cell_type": "markdown",
   "metadata": {},
   "source": [
    "# Day 6"
   ]
  },
  {
   "cell_type": "code",
   "execution_count": 64,
   "metadata": {},
   "outputs": [],
   "source": [
    "import re\n",
    "import numpy as np"
   ]
  },
  {
   "cell_type": "code",
   "execution_count": 65,
   "metadata": {},
   "outputs": [],
   "source": [
    "with open('Data_Aoc_2023/Data_D6.txt') as f:\n",
    "    l=f.readlines()\n",
    "    lol=[[int(k) for k in re.sub('\\w+:','',i).strip().split()] for i in l]"
   ]
  },
  {
   "cell_type": "code",
   "execution_count": 66,
   "metadata": {},
   "outputs": [],
   "source": [
    "time = lol[0]\n",
    "dist = lol[1] "
   ]
  },
  {
   "cell_type": "markdown",
   "metadata": {},
   "source": [
    "### Part 1"
   ]
  },
  {
   "cell_type": "code",
   "execution_count": 67,
   "metadata": {},
   "outputs": [
    {
     "data": {
      "text/plain": [
       "741000"
      ]
     },
     "execution_count": 67,
     "metadata": {},
     "output_type": "execute_result"
    }
   ],
   "source": [
    "def int_sup(x):\n",
    "    if int(x) == x:\n",
    "        return x\n",
    "    else:\n",
    "        return int(x)+1\n",
    "\n",
    "def nb_choices(t,d):\n",
    "    discr = (t**2 -4*d)\n",
    "    s1 = -(-t + np.sqrt(discr))/2\n",
    "    s2 = -(-t - np.sqrt(discr))/2\n",
    "    return int_sup(s2) - int(s1) -1\n",
    "    \n",
    "\n",
    "\n",
    "\n",
    "res = 1\n",
    "\n",
    "for i , _ in enumerate(time):\n",
    "    res *= nb_choices(time[i],dist[i])\n",
    "res"
   ]
  },
  {
   "cell_type": "markdown",
   "metadata": {},
   "source": [
    "### Part 2"
   ]
  },
  {
   "cell_type": "code",
   "execution_count": 68,
   "metadata": {},
   "outputs": [
    {
     "data": {
      "text/plain": [
       "38220708"
      ]
     },
     "execution_count": 68,
     "metadata": {},
     "output_type": "execute_result"
    }
   ],
   "source": [
    "time2 = ''\n",
    "dist2 = ''\n",
    "l = len(time)\n",
    "for k in range(l):\n",
    "    time2 += str(time[k])\n",
    "    dist2 += str(dist[k])\n",
    "time2 = int(time2)\n",
    "dist2 = int(dist2)\n",
    "\n",
    "nb_choices(time2,dist2)"
   ]
  }
 ],
 "metadata": {
  "kernelspec": {
   "display_name": "gudhi",
   "language": "python",
   "name": "python3"
  },
  "language_info": {
   "codemirror_mode": {
    "name": "ipython",
    "version": 3
   },
   "file_extension": ".py",
   "mimetype": "text/x-python",
   "name": "python",
   "nbconvert_exporter": "python",
   "pygments_lexer": "ipython3",
   "version": "3.10.9"
  }
 },
 "nbformat": 4,
 "nbformat_minor": 2
}
