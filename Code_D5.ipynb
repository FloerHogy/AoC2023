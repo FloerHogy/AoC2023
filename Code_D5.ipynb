{
 "cells": [
  {
   "cell_type": "markdown",
   "metadata": {},
   "source": [
    "# Day 5"
   ]
  },
  {
   "cell_type": "code",
   "execution_count": 62,
   "metadata": {},
   "outputs": [],
   "source": [
    "import re"
   ]
  },
  {
   "cell_type": "code",
   "execution_count": 63,
   "metadata": {},
   "outputs": [],
   "source": [
    "with open('Data_Aoc_2023/Data_D5.txt') as f:\n",
    "    l=f.read()\n",
    "    lol = re.sub('[a-zA-Z]+','',l).split(':')\n",
    "    data = [a.split() for a in lol[1:]]\n",
    "    data = [[int(k) for k in a  if k.isdigit()] for a in data]"
   ]
  },
  {
   "cell_type": "code",
   "execution_count": 64,
   "metadata": {},
   "outputs": [],
   "source": [
    "def to_format(liste):\n",
    "    res = []\n",
    "    n = len(liste)//3\n",
    "    for k in range(n):\n",
    "        res.append([liste[3*k], liste[3*k+1], liste[3*k+2]])\n",
    "    return res\n",
    "\n",
    "seeds = data[0]\n",
    "\n",
    "tables = [to_format(k) for k in data[1:]]"
   ]
  },
  {
   "cell_type": "code",
   "execution_count": 65,
   "metadata": {},
   "outputs": [],
   "source": [
    "def destination(source, table):\n",
    "    for info in table:\n",
    "        if source >= info[1] and source < info[1]+info[2]:\n",
    "            return info[0]+ source- info[1]\n",
    "    return source\n",
    "\n",
    "def path(seed, tables):\n",
    "    if len(tables) == 0:\n",
    "        return seed\n",
    "    else:\n",
    "        return path(destination(seed,tables[0]),tables[1:])\n",
    "    "
   ]
  },
  {
   "cell_type": "markdown",
   "metadata": {},
   "source": [
    "### Part 1"
   ]
  },
  {
   "cell_type": "code",
   "execution_count": 66,
   "metadata": {},
   "outputs": [
    {
     "data": {
      "text/plain": [
       "265018614"
      ]
     },
     "execution_count": 66,
     "metadata": {},
     "output_type": "execute_result"
    }
   ],
   "source": [
    "min([path(k,tables) for k in seeds])"
   ]
  },
  {
   "cell_type": "markdown",
   "metadata": {},
   "source": [
    "### Part 2"
   ]
  },
  {
   "cell_type": "code",
   "execution_count": 67,
   "metadata": {},
   "outputs": [],
   "source": [
    "n = len(seeds)//2\n",
    "seeds_range=[[seeds[2*k], seeds[2*k+1]] for k, a in enumerate(seeds[::2])]"
   ]
  },
  {
   "cell_type": "code",
   "execution_count": 68,
   "metadata": {},
   "outputs": [],
   "source": [
    "def update_seeds(seed_list, table):\n",
    "    seeds = seed_list.copy()\n",
    "    new_seeds = []\n",
    "    for [k,r] in seeds:\n",
    "        for [d,s,l] in table:\n",
    "            shift = d-s\n",
    "            if k >= (s+l) or (k+r)<=s:\n",
    "                continue\n",
    "            inter = [max(k,s),min(k+r-1,s+l-1)]\n",
    "            left = [k,max(k,s)-1]\n",
    "            right = [min(k+r-1,s+l-1)+1, k+r-1]\n",
    "            if left[1]-left[0]>=0:\n",
    "                seeds.append([k,s-k])\n",
    "            if right[1]-right[0]>=0:\n",
    "                seeds.append([s+l, k+r-s-l])\n",
    "            if inter[1]-inter[0]>=0:\n",
    "                new_seeds.append([inter[0]+shift, inter[1]-inter[0]+1])\n",
    "            break\n",
    "        else:\n",
    "            new_seeds.append([k,r])\n",
    "    return new_seeds\n",
    "    "
   ]
  },
  {
   "cell_type": "code",
   "execution_count": 69,
   "metadata": {},
   "outputs": [
    {
     "data": {
      "text/plain": [
       "63179500"
      ]
     },
     "execution_count": 69,
     "metadata": {},
     "output_type": "execute_result"
    }
   ],
   "source": [
    "final_seeds = seeds_range.copy()\n",
    "for table in tables:\n",
    "    final_seeds = update_seeds(final_seeds, table)\n",
    "min(final_seeds)[0]"
   ]
  }
 ],
 "metadata": {
  "kernelspec": {
   "display_name": "gudhi",
   "language": "python",
   "name": "python3"
  },
  "language_info": {
   "codemirror_mode": {
    "name": "ipython",
    "version": 3
   },
   "file_extension": ".py",
   "mimetype": "text/x-python",
   "name": "python",
   "nbconvert_exporter": "python",
   "pygments_lexer": "ipython3",
   "version": "3.10.9"
  }
 },
 "nbformat": 4,
 "nbformat_minor": 2
}
