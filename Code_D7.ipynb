{
 "cells": [
  {
   "cell_type": "markdown",
   "metadata": {},
   "source": [
    "# Day 7"
   ]
  },
  {
   "cell_type": "code",
   "execution_count": 88,
   "metadata": {},
   "outputs": [],
   "source": [
    "with open('Data_Aoc_2023/Data_D7.txt') as f:\n",
    "    l=f.readlines()\n",
    "    lol=[[i.split()[0], int(i.split()[1])] for i in l]"
   ]
  },
  {
   "cell_type": "code",
   "execution_count": 89,
   "metadata": {},
   "outputs": [],
   "source": [
    "card_order = ['A','K','Q','J','T','9','8','7','6','5','4','3','2'][::-1]\n",
    "comb_order = ['Five', 'Four', 'Full','Three', '2 pairs', 'Pair', 'High'][::-1]\n",
    "card_orderJ = ['A','K','Q','T','9','8','7','6','5','4','3','2','J'][::-1]\n",
    "\n",
    "cards = {c: i for i,c in enumerate(card_order)}\n",
    "combs = {c: i for i,c in enumerate(comb_order)}\n",
    "cardsJ = {c: i for i,c in enumerate(card_orderJ)}"
   ]
  },
  {
   "cell_type": "code",
   "execution_count": 97,
   "metadata": {},
   "outputs": [],
   "source": [
    "class CamelHand():\n",
    "    def __init__(self, paire):\n",
    "        self.hand = paire[0]\n",
    "        self.bid = paire[1]\n",
    "        self.cards = self.comb_cards()\n",
    "        self.result = self.combinaison()\n",
    "        self.withJ = False\n",
    "        self.comb_withJ = self.combJ()\n",
    "    \n",
    "    def comb_cards(self):\n",
    "        set_cards = set(k for k in self.hand)\n",
    "        return {c: self.hand.count(c) for c in set_cards}\n",
    "    \n",
    "    def combJ(self):\n",
    "        res =[]\n",
    "        if 'J' not in self.hand:\n",
    "            return self.result\n",
    "        for k in card_orderJ[1:]:\n",
    "            temp = CamelHand([self.hand.replace('J',k),0]).result\n",
    "            res.append(combs[temp])\n",
    "        return comb_order[max(res)]\n",
    "    \n",
    "    def combinaison(self):\n",
    "        temp = sorted([k for k in self.cards.values() if k>1])\n",
    "        if temp == []:\n",
    "            return 'High'\n",
    "        elif temp ==[2]:\n",
    "            return 'Pair'\n",
    "        elif temp ==[2,2]:\n",
    "            return '2 pairs'\n",
    "        elif temp ==[3]:\n",
    "            return 'Three'\n",
    "        elif temp == [2,3]:\n",
    "            return 'Full'\n",
    "        elif temp == [4]:\n",
    "            return 'Four'\n",
    "        elif temp == [5]:\n",
    "            return 'Five'\n",
    "    \n",
    "    def __lt__(self, other):\n",
    "        if self.withJ == True:\n",
    "            comb_self = combs[self.comb_withJ]\n",
    "            order_card = cardsJ\n",
    "        else: \n",
    "            comb_self = combs[self.result]\n",
    "            order_card = cards\n",
    "\n",
    "        if other.withJ == True:\n",
    "            comb_other = combs[other.comb_withJ]\n",
    "        else:\n",
    "            comb_other = combs[other.result]\n",
    "        \n",
    "\n",
    "        if self.hand == other.hand:\n",
    "            return self.bid<other.bid\n",
    "        elif comb_self < comb_other:\n",
    "            return True\n",
    "        elif comb_self > comb_other:\n",
    "            return False\n",
    "        else:\n",
    "            for k in range(5):\n",
    "                if order_card[self.hand[k]] < order_card[other.hand[k]]:\n",
    "                    return True\n",
    "                elif order_card[self.hand[k]] > order_card[other.hand[k]]:\n",
    "                    return False\n",
    "                else:\n",
    "                    pass\n",
    "\n"
   ]
  },
  {
   "cell_type": "markdown",
   "metadata": {},
   "source": [
    "### Part 1"
   ]
  },
  {
   "cell_type": "code",
   "execution_count": 91,
   "metadata": {},
   "outputs": [
    {
     "data": {
      "text/plain": [
       "251216224"
      ]
     },
     "execution_count": 91,
     "metadata": {},
     "output_type": "execute_result"
    }
   ],
   "source": [
    "data = [CamelHand(main) for main in lol]\n",
    "data_sorted = sorted(data)\n",
    "res = 0\n",
    "for k, main in enumerate(data_sorted):\n",
    "    res += (k+1) * main.bid\n",
    "res"
   ]
  },
  {
   "cell_type": "markdown",
   "metadata": {},
   "source": [
    "### Part 2"
   ]
  },
  {
   "cell_type": "code",
   "execution_count": 98,
   "metadata": {},
   "outputs": [
    {
     "data": {
      "text/plain": [
       "250825971"
      ]
     },
     "execution_count": 98,
     "metadata": {},
     "output_type": "execute_result"
    }
   ],
   "source": [
    "data = [CamelHand(main) for main in lol]\n",
    "for main in data:\n",
    "    main.withJ = True\n",
    "data_sorted = sorted(data)\n",
    "res = 0\n",
    "for k, main in enumerate(data_sorted):\n",
    "    res += (k+1) * main.bid\n",
    "res"
   ]
  }
 ],
 "metadata": {
  "kernelspec": {
   "display_name": "gudhi",
   "language": "python",
   "name": "python3"
  },
  "language_info": {
   "codemirror_mode": {
    "name": "ipython",
    "version": 3
   },
   "file_extension": ".py",
   "mimetype": "text/x-python",
   "name": "python",
   "nbconvert_exporter": "python",
   "pygments_lexer": "ipython3",
   "version": "3.10.9"
  }
 },
 "nbformat": 4,
 "nbformat_minor": 2
}
